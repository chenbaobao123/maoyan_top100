{
 "cells": [
  {
   "cell_type": "code",
   "execution_count": 1,
   "metadata": {},
   "outputs": [],
   "source": [
    "%matplotlib inline\n",
    "import numpy as np\n",
    "import pandas as pd\n",
    "import matplotlib.pyplot as plt\n"
   ]
  },
  {
   "cell_type": "code",
   "execution_count": 2,
   "metadata": {},
   "outputs": [],
   "source": [
    "maoyan_data = pd.read_csv('maoyan.csv')"
   ]
  },
  {
   "cell_type": "markdown",
   "metadata": {},
   "source": [
    "# 1.预览猫眼表数据情况"
   ]
  },
  {
   "cell_type": "code",
   "execution_count": 3,
   "metadata": {},
   "outputs": [
    {
     "data": {
      "text/html": [
       "<div>\n",
       "<style scoped>\n",
       "    .dataframe tbody tr th:only-of-type {\n",
       "        vertical-align: middle;\n",
       "    }\n",
       "\n",
       "    .dataframe tbody tr th {\n",
       "        vertical-align: top;\n",
       "    }\n",
       "\n",
       "    .dataframe thead th {\n",
       "        text-align: right;\n",
       "    }\n",
       "</style>\n",
       "<table border=\"1\" class=\"dataframe\">\n",
       "  <thead>\n",
       "    <tr style=\"text-align: right;\">\n",
       "      <th></th>\n",
       "      <th>title</th>\n",
       "      <th>starring</th>\n",
       "      <th>pub_time</th>\n",
       "      <th>score</th>\n",
       "      <th>styles</th>\n",
       "      <th>long_time</th>\n",
       "    </tr>\n",
       "  </thead>\n",
       "  <tbody>\n",
       "    <tr>\n",
       "      <th>0</th>\n",
       "      <td>霸王别姬</td>\n",
       "      <td>张国荣,张丰毅,巩俐</td>\n",
       "      <td>1993-07-26</td>\n",
       "      <td>9.5</td>\n",
       "      <td>爱情,剧情</td>\n",
       "      <td>171</td>\n",
       "    </tr>\n",
       "    <tr>\n",
       "      <th>1</th>\n",
       "      <td>肖申克的救赎</td>\n",
       "      <td>蒂姆·罗宾斯,摩根·弗里曼,鲍勃·冈顿</td>\n",
       "      <td>1994-09-10(加拿大)</td>\n",
       "      <td>9.5</td>\n",
       "      <td>犯罪,剧情</td>\n",
       "      <td>142</td>\n",
       "    </tr>\n",
       "    <tr>\n",
       "      <th>2</th>\n",
       "      <td>罗马假日</td>\n",
       "      <td>格利高里·派克,奥黛丽·赫本,埃迪·艾伯特</td>\n",
       "      <td>1953-09-02(美国)</td>\n",
       "      <td>9.1</td>\n",
       "      <td>喜剧,剧情,爱情</td>\n",
       "      <td>118</td>\n",
       "    </tr>\n",
       "    <tr>\n",
       "      <th>3</th>\n",
       "      <td>这个杀手不太冷</td>\n",
       "      <td>让·雷诺,加里·奥德曼,娜塔莉·波特曼</td>\n",
       "      <td>1994-09-14(法国)</td>\n",
       "      <td>9.5</td>\n",
       "      <td>剧情,惊悚,犯罪</td>\n",
       "      <td>110</td>\n",
       "    </tr>\n",
       "    <tr>\n",
       "      <th>4</th>\n",
       "      <td>泰坦尼克号</td>\n",
       "      <td>莱昂纳多·迪卡普里奥,凯特·温丝莱特,比利·赞恩</td>\n",
       "      <td>1998-04-03</td>\n",
       "      <td>9.5</td>\n",
       "      <td>历史,爱情,灾难</td>\n",
       "      <td>194</td>\n",
       "    </tr>\n",
       "  </tbody>\n",
       "</table>\n",
       "</div>"
      ],
      "text/plain": [
       "     title                  starring         pub_time  score    styles  \\\n",
       "0     霸王别姬                张国荣,张丰毅,巩俐       1993-07-26    9.5     爱情,剧情   \n",
       "1   肖申克的救赎       蒂姆·罗宾斯,摩根·弗里曼,鲍勃·冈顿  1994-09-10(加拿大)    9.5     犯罪,剧情   \n",
       "2     罗马假日     格利高里·派克,奥黛丽·赫本,埃迪·艾伯特   1953-09-02(美国)    9.1  喜剧,剧情,爱情   \n",
       "3  这个杀手不太冷       让·雷诺,加里·奥德曼,娜塔莉·波特曼   1994-09-14(法国)    9.5  剧情,惊悚,犯罪   \n",
       "4    泰坦尼克号  莱昂纳多·迪卡普里奥,凯特·温丝莱特,比利·赞恩       1998-04-03    9.5  历史,爱情,灾难   \n",
       "\n",
       "   long_time  \n",
       "0        171  \n",
       "1        142  \n",
       "2        118  \n",
       "3        110  \n",
       "4        194  "
      ]
     },
     "execution_count": 3,
     "metadata": {},
     "output_type": "execute_result"
    }
   ],
   "source": [
    "maoyan_data.head()"
   ]
  },
  {
   "cell_type": "code",
   "execution_count": 4,
   "metadata": {},
   "outputs": [
    {
     "data": {
      "text/plain": [
       "(100, 6)"
      ]
     },
     "execution_count": 4,
     "metadata": {},
     "output_type": "execute_result"
    }
   ],
   "source": [
    "maoyan_data.shape\n"
   ]
  },
  {
   "cell_type": "code",
   "execution_count": 5,
   "metadata": {},
   "outputs": [
    {
     "name": "stdout",
     "output_type": "stream",
     "text": [
      "<class 'pandas.core.frame.DataFrame'>\n",
      "RangeIndex: 100 entries, 0 to 99\n",
      "Data columns (total 6 columns):\n",
      "title        100 non-null object\n",
      "starring     100 non-null object\n",
      "pub_time     100 non-null object\n",
      "score        100 non-null float64\n",
      "styles       100 non-null object\n",
      "long_time    100 non-null int64\n",
      "dtypes: float64(1), int64(1), object(4)\n",
      "memory usage: 3.2+ KB\n"
     ]
    }
   ],
   "source": [
    "maoyan_data.info()"
   ]
  },
  {
   "cell_type": "code",
   "execution_count": 6,
   "metadata": {},
   "outputs": [
    {
     "data": {
      "text/plain": [
       "title        0\n",
       "starring     0\n",
       "pub_time     0\n",
       "score        0\n",
       "styles       0\n",
       "long_time    0\n",
       "dtype: int64"
      ]
     },
     "execution_count": 6,
     "metadata": {},
     "output_type": "execute_result"
    }
   ],
   "source": [
    "maoyan_data.isnull().sum()"
   ]
  },
  {
   "cell_type": "markdown",
   "metadata": {},
   "source": [
    "数据完整，无缺失，根据要做的分析做简单数据处理，这里对上映日期分解出年，月"
   ]
  },
  {
   "cell_type": "markdown",
   "metadata": {},
   "source": [
    "# 2.做简单数据处理"
   ]
  },
  {
   "cell_type": "code",
   "execution_count": 7,
   "metadata": {},
   "outputs": [],
   "source": [
    "#根据上映时间pub_time,提取出上映年，月\n",
    "#利用pandas里数据类型自带的str方法\n",
    "maoyan_data['Year'] = maoyan_data['pub_time'].str.split('-',expand=True)[0]\n",
    "maoyan_data['Month'] = maoyan_data['pub_time'].str.split('-',expand=True)[1]\n"
   ]
  },
  {
   "cell_type": "code",
   "execution_count": 8,
   "metadata": {},
   "outputs": [],
   "source": [
    "#根据上映时间pub_time,初步提取出国家来\n",
    "maoyan_data['Country'] = maoyan_data['pub_time'].str.split('(',expand=True)[1].str.strip(')')"
   ]
  },
  {
   "cell_type": "code",
   "execution_count": 9,
   "metadata": {},
   "outputs": [
    {
     "data": {
      "text/html": [
       "<div>\n",
       "<style scoped>\n",
       "    .dataframe tbody tr th:only-of-type {\n",
       "        vertical-align: middle;\n",
       "    }\n",
       "\n",
       "    .dataframe tbody tr th {\n",
       "        vertical-align: top;\n",
       "    }\n",
       "\n",
       "    .dataframe thead th {\n",
       "        text-align: right;\n",
       "    }\n",
       "</style>\n",
       "<table border=\"1\" class=\"dataframe\">\n",
       "  <thead>\n",
       "    <tr style=\"text-align: right;\">\n",
       "      <th></th>\n",
       "      <th>title</th>\n",
       "      <th>starring</th>\n",
       "      <th>pub_time</th>\n",
       "      <th>score</th>\n",
       "      <th>styles</th>\n",
       "      <th>long_time</th>\n",
       "      <th>Year</th>\n",
       "      <th>Month</th>\n",
       "      <th>Country</th>\n",
       "    </tr>\n",
       "  </thead>\n",
       "  <tbody>\n",
       "    <tr>\n",
       "      <th>0</th>\n",
       "      <td>霸王别姬</td>\n",
       "      <td>张国荣,张丰毅,巩俐</td>\n",
       "      <td>1993-07-26</td>\n",
       "      <td>9.5</td>\n",
       "      <td>爱情,剧情</td>\n",
       "      <td>171</td>\n",
       "      <td>1993</td>\n",
       "      <td>07</td>\n",
       "      <td>None</td>\n",
       "    </tr>\n",
       "    <tr>\n",
       "      <th>1</th>\n",
       "      <td>肖申克的救赎</td>\n",
       "      <td>蒂姆·罗宾斯,摩根·弗里曼,鲍勃·冈顿</td>\n",
       "      <td>1994-09-10(加拿大)</td>\n",
       "      <td>9.5</td>\n",
       "      <td>犯罪,剧情</td>\n",
       "      <td>142</td>\n",
       "      <td>1994</td>\n",
       "      <td>09</td>\n",
       "      <td>加拿大</td>\n",
       "    </tr>\n",
       "    <tr>\n",
       "      <th>2</th>\n",
       "      <td>罗马假日</td>\n",
       "      <td>格利高里·派克,奥黛丽·赫本,埃迪·艾伯特</td>\n",
       "      <td>1953-09-02(美国)</td>\n",
       "      <td>9.1</td>\n",
       "      <td>喜剧,剧情,爱情</td>\n",
       "      <td>118</td>\n",
       "      <td>1953</td>\n",
       "      <td>09</td>\n",
       "      <td>美国</td>\n",
       "    </tr>\n",
       "    <tr>\n",
       "      <th>3</th>\n",
       "      <td>这个杀手不太冷</td>\n",
       "      <td>让·雷诺,加里·奥德曼,娜塔莉·波特曼</td>\n",
       "      <td>1994-09-14(法国)</td>\n",
       "      <td>9.5</td>\n",
       "      <td>剧情,惊悚,犯罪</td>\n",
       "      <td>110</td>\n",
       "      <td>1994</td>\n",
       "      <td>09</td>\n",
       "      <td>法国</td>\n",
       "    </tr>\n",
       "    <tr>\n",
       "      <th>4</th>\n",
       "      <td>泰坦尼克号</td>\n",
       "      <td>莱昂纳多·迪卡普里奥,凯特·温丝莱特,比利·赞恩</td>\n",
       "      <td>1998-04-03</td>\n",
       "      <td>9.5</td>\n",
       "      <td>历史,爱情,灾难</td>\n",
       "      <td>194</td>\n",
       "      <td>1998</td>\n",
       "      <td>04</td>\n",
       "      <td>None</td>\n",
       "    </tr>\n",
       "    <tr>\n",
       "      <th>5</th>\n",
       "      <td>唐伯虎点秋香</td>\n",
       "      <td>周星驰,巩俐,郑佩佩</td>\n",
       "      <td>1993-07-01(中国香港)</td>\n",
       "      <td>9.1</td>\n",
       "      <td>喜剧,爱情,古装</td>\n",
       "      <td>102</td>\n",
       "      <td>1993</td>\n",
       "      <td>07</td>\n",
       "      <td>中国香港</td>\n",
       "    </tr>\n",
       "    <tr>\n",
       "      <th>6</th>\n",
       "      <td>乱世佳人</td>\n",
       "      <td>费雯·丽,克拉克·盖博,奥利维娅·德哈维兰</td>\n",
       "      <td>1939-12-15(美国)</td>\n",
       "      <td>9.1</td>\n",
       "      <td>剧情,爱情,战争</td>\n",
       "      <td>238</td>\n",
       "      <td>1939</td>\n",
       "      <td>12</td>\n",
       "      <td>美国</td>\n",
       "    </tr>\n",
       "    <tr>\n",
       "      <th>7</th>\n",
       "      <td>魂断蓝桥</td>\n",
       "      <td>费雯·丽,罗伯特·泰勒,露塞尔·沃特森</td>\n",
       "      <td>1940-05-17(美国)</td>\n",
       "      <td>9.2</td>\n",
       "      <td>剧情,战争,爱情</td>\n",
       "      <td>108</td>\n",
       "      <td>1940</td>\n",
       "      <td>05</td>\n",
       "      <td>美国</td>\n",
       "    </tr>\n",
       "    <tr>\n",
       "      <th>8</th>\n",
       "      <td>辛德勒的名单</td>\n",
       "      <td>连姆·尼森,拉尔夫·费因斯,本·金斯利</td>\n",
       "      <td>1993-12-15(美国)</td>\n",
       "      <td>9.2</td>\n",
       "      <td>剧情,历史,战争</td>\n",
       "      <td>195</td>\n",
       "      <td>1993</td>\n",
       "      <td>12</td>\n",
       "      <td>美国</td>\n",
       "    </tr>\n",
       "    <tr>\n",
       "      <th>9</th>\n",
       "      <td>天空之城</td>\n",
       "      <td>寺田农,鹫尾真知子,龟山助清</td>\n",
       "      <td>1992-05-01</td>\n",
       "      <td>9.0</td>\n",
       "      <td>动画,冒险,家庭</td>\n",
       "      <td>125</td>\n",
       "      <td>1992</td>\n",
       "      <td>05</td>\n",
       "      <td>None</td>\n",
       "    </tr>\n",
       "  </tbody>\n",
       "</table>\n",
       "</div>"
      ],
      "text/plain": [
       "     title                  starring          pub_time  score    styles  \\\n",
       "0     霸王别姬                张国荣,张丰毅,巩俐        1993-07-26    9.5     爱情,剧情   \n",
       "1   肖申克的救赎       蒂姆·罗宾斯,摩根·弗里曼,鲍勃·冈顿   1994-09-10(加拿大)    9.5     犯罪,剧情   \n",
       "2     罗马假日     格利高里·派克,奥黛丽·赫本,埃迪·艾伯特    1953-09-02(美国)    9.1  喜剧,剧情,爱情   \n",
       "3  这个杀手不太冷       让·雷诺,加里·奥德曼,娜塔莉·波特曼    1994-09-14(法国)    9.5  剧情,惊悚,犯罪   \n",
       "4    泰坦尼克号  莱昂纳多·迪卡普里奥,凯特·温丝莱特,比利·赞恩        1998-04-03    9.5  历史,爱情,灾难   \n",
       "5   唐伯虎点秋香                周星驰,巩俐,郑佩佩  1993-07-01(中国香港)    9.1  喜剧,爱情,古装   \n",
       "6     乱世佳人     费雯·丽,克拉克·盖博,奥利维娅·德哈维兰    1939-12-15(美国)    9.1  剧情,爱情,战争   \n",
       "7     魂断蓝桥       费雯·丽,罗伯特·泰勒,露塞尔·沃特森    1940-05-17(美国)    9.2  剧情,战争,爱情   \n",
       "8   辛德勒的名单       连姆·尼森,拉尔夫·费因斯,本·金斯利    1993-12-15(美国)    9.2  剧情,历史,战争   \n",
       "9     天空之城            寺田农,鹫尾真知子,龟山助清        1992-05-01    9.0  动画,冒险,家庭   \n",
       "\n",
       "   long_time  Year Month Country  \n",
       "0        171  1993    07    None  \n",
       "1        142  1994    09     加拿大  \n",
       "2        118  1953    09      美国  \n",
       "3        110  1994    09      法国  \n",
       "4        194  1998    04    None  \n",
       "5        102  1993    07    中国香港  \n",
       "6        238  1939    12      美国  \n",
       "7        108  1940    05      美国  \n",
       "8        195  1993    12      美国  \n",
       "9        125  1992    05    None  "
      ]
     },
     "execution_count": 9,
     "metadata": {},
     "output_type": "execute_result"
    }
   ],
   "source": [
    "maoyan_data.head(10)"
   ]
  },
  {
   "cell_type": "code",
   "execution_count": 10,
   "metadata": {},
   "outputs": [
    {
     "name": "stdout",
     "output_type": "stream",
     "text": [
      "<class 'pandas.core.frame.DataFrame'>\n",
      "RangeIndex: 100 entries, 0 to 99\n",
      "Data columns (total 9 columns):\n",
      "title        100 non-null object\n",
      "starring     100 non-null object\n",
      "pub_time     100 non-null object\n",
      "score        100 non-null float64\n",
      "styles       100 non-null object\n",
      "long_time    100 non-null int64\n",
      "Year         100 non-null object\n",
      "Month        99 non-null object\n",
      "Country      55 non-null object\n",
      "dtypes: float64(1), int64(1), object(7)\n",
      "memory usage: 4.4+ KB\n"
     ]
    }
   ],
   "source": [
    "maoyan_data.info()"
   ]
  },
  {
   "cell_type": "code",
   "execution_count": 11,
   "metadata": {},
   "outputs": [
    {
     "data": {
      "text/html": [
       "<div>\n",
       "<style scoped>\n",
       "    .dataframe tbody tr th:only-of-type {\n",
       "        vertical-align: middle;\n",
       "    }\n",
       "\n",
       "    .dataframe tbody tr th {\n",
       "        vertical-align: top;\n",
       "    }\n",
       "\n",
       "    .dataframe thead th {\n",
       "        text-align: right;\n",
       "    }\n",
       "</style>\n",
       "<table border=\"1\" class=\"dataframe\">\n",
       "  <thead>\n",
       "    <tr style=\"text-align: right;\">\n",
       "      <th></th>\n",
       "      <th>title</th>\n",
       "      <th>starring</th>\n",
       "      <th>pub_time</th>\n",
       "      <th>score</th>\n",
       "      <th>styles</th>\n",
       "      <th>long_time</th>\n",
       "      <th>Year</th>\n",
       "      <th>Month</th>\n",
       "    </tr>\n",
       "    <tr>\n",
       "      <th>Country</th>\n",
       "      <th></th>\n",
       "      <th></th>\n",
       "      <th></th>\n",
       "      <th></th>\n",
       "      <th></th>\n",
       "      <th></th>\n",
       "      <th></th>\n",
       "      <th></th>\n",
       "    </tr>\n",
       "  </thead>\n",
       "  <tbody>\n",
       "    <tr>\n",
       "      <th>中国香港</th>\n",
       "      <td>4</td>\n",
       "      <td>4</td>\n",
       "      <td>4</td>\n",
       "      <td>4</td>\n",
       "      <td>4</td>\n",
       "      <td>4</td>\n",
       "      <td>4</td>\n",
       "      <td>4</td>\n",
       "    </tr>\n",
       "    <tr>\n",
       "      <th>加拿大</th>\n",
       "      <td>1</td>\n",
       "      <td>1</td>\n",
       "      <td>1</td>\n",
       "      <td>1</td>\n",
       "      <td>1</td>\n",
       "      <td>1</td>\n",
       "      <td>1</td>\n",
       "      <td>1</td>\n",
       "    </tr>\n",
       "    <tr>\n",
       "      <th>巴西</th>\n",
       "      <td>1</td>\n",
       "      <td>1</td>\n",
       "      <td>1</td>\n",
       "      <td>1</td>\n",
       "      <td>1</td>\n",
       "      <td>1</td>\n",
       "      <td>1</td>\n",
       "      <td>1</td>\n",
       "    </tr>\n",
       "    <tr>\n",
       "      <th>德国</th>\n",
       "      <td>1</td>\n",
       "      <td>1</td>\n",
       "      <td>1</td>\n",
       "      <td>1</td>\n",
       "      <td>1</td>\n",
       "      <td>1</td>\n",
       "      <td>1</td>\n",
       "      <td>1</td>\n",
       "    </tr>\n",
       "    <tr>\n",
       "      <th>意大利</th>\n",
       "      <td>1</td>\n",
       "      <td>1</td>\n",
       "      <td>1</td>\n",
       "      <td>1</td>\n",
       "      <td>1</td>\n",
       "      <td>1</td>\n",
       "      <td>1</td>\n",
       "      <td>1</td>\n",
       "    </tr>\n",
       "    <tr>\n",
       "      <th>日本</th>\n",
       "      <td>5</td>\n",
       "      <td>5</td>\n",
       "      <td>5</td>\n",
       "      <td>5</td>\n",
       "      <td>5</td>\n",
       "      <td>5</td>\n",
       "      <td>5</td>\n",
       "      <td>5</td>\n",
       "    </tr>\n",
       "    <tr>\n",
       "      <th>法国</th>\n",
       "      <td>6</td>\n",
       "      <td>6</td>\n",
       "      <td>6</td>\n",
       "      <td>6</td>\n",
       "      <td>6</td>\n",
       "      <td>6</td>\n",
       "      <td>6</td>\n",
       "      <td>6</td>\n",
       "    </tr>\n",
       "    <tr>\n",
       "      <th>法国戛纳</th>\n",
       "      <td>1</td>\n",
       "      <td>1</td>\n",
       "      <td>1</td>\n",
       "      <td>1</td>\n",
       "      <td>1</td>\n",
       "      <td>1</td>\n",
       "      <td>1</td>\n",
       "      <td>1</td>\n",
       "    </tr>\n",
       "    <tr>\n",
       "      <th>美国</th>\n",
       "      <td>25</td>\n",
       "      <td>25</td>\n",
       "      <td>25</td>\n",
       "      <td>25</td>\n",
       "      <td>25</td>\n",
       "      <td>25</td>\n",
       "      <td>25</td>\n",
       "      <td>25</td>\n",
       "    </tr>\n",
       "    <tr>\n",
       "      <th>英国</th>\n",
       "      <td>3</td>\n",
       "      <td>3</td>\n",
       "      <td>3</td>\n",
       "      <td>3</td>\n",
       "      <td>3</td>\n",
       "      <td>3</td>\n",
       "      <td>3</td>\n",
       "      <td>3</td>\n",
       "    </tr>\n",
       "    <tr>\n",
       "      <th>韩国</th>\n",
       "      <td>7</td>\n",
       "      <td>7</td>\n",
       "      <td>7</td>\n",
       "      <td>7</td>\n",
       "      <td>7</td>\n",
       "      <td>7</td>\n",
       "      <td>7</td>\n",
       "      <td>7</td>\n",
       "    </tr>\n",
       "  </tbody>\n",
       "</table>\n",
       "</div>"
      ],
      "text/plain": [
       "         title  starring  pub_time  score  styles  long_time  Year  Month\n",
       "Country                                                                  \n",
       "中国香港         4         4         4      4       4          4     4      4\n",
       "加拿大          1         1         1      1       1          1     1      1\n",
       "巴西           1         1         1      1       1          1     1      1\n",
       "德国           1         1         1      1       1          1     1      1\n",
       "意大利          1         1         1      1       1          1     1      1\n",
       "日本           5         5         5      5       5          5     5      5\n",
       "法国           6         6         6      6       6          6     6      6\n",
       "法国戛纳         1         1         1      1       1          1     1      1\n",
       "美国          25        25        25     25      25         25    25     25\n",
       "英国           3         3         3      3       3          3     3      3\n",
       "韩国           7         7         7      7       7          7     7      7"
      ]
     },
     "execution_count": 11,
     "metadata": {},
     "output_type": "execute_result"
    }
   ],
   "source": [
    "#国家数据不统一，可以查看现在国家数据情况\n",
    "data = maoyan_data.groupby('Country')\n",
    "data.count()"
   ]
  },
  {
   "cell_type": "code",
   "execution_count": 12,
   "metadata": {},
   "outputs": [
    {
     "data": {
      "text/plain": [
       "title         0\n",
       "starring      0\n",
       "pub_time      0\n",
       "score         0\n",
       "styles        0\n",
       "long_time     0\n",
       "Year          0\n",
       "Month         1\n",
       "Country      45\n",
       "dtype: int64"
      ]
     },
     "execution_count": 12,
     "metadata": {},
     "output_type": "execute_result"
    }
   ],
   "source": [
    "maoyan_data.isnull().sum()"
   ]
  },
  {
   "cell_type": "markdown",
   "metadata": {},
   "source": [
    "# 3.数据可视化分析"
   ]
  },
  {
   "cell_type": "code",
   "execution_count": 52,
   "metadata": {},
   "outputs": [],
   "source": [
    "year_data = maoyan_data.groupby(['Year'])\n",
    "year_pic_data1 = year_data.size()\n",
    "year_pic_data2 = year_data['score'].mean()\n",
    "# year_pic_data1\n",
    "# year_pic_data2"
   ]
  },
  {
   "cell_type": "code",
   "execution_count": 49,
   "metadata": {},
   "outputs": [
    {
     "data": {
      "text/plain": [
       "array([<matplotlib.axes._subplots.AxesSubplot object at 0x08102910>,\n",
       "       <matplotlib.axes._subplots.AxesSubplot object at 0x15B377B0>],\n",
       "      dtype=object)"
      ]
     },
     "execution_count": 49,
     "metadata": {},
     "output_type": "execute_result"
    },
    {
     "data": {
      "image/png": "[encoded data removed]",
      "text/plain": [
       "<Figure size 432x288 with 2 Axes>"
      ]
     },
     "metadata": {
      "needs_background": "light"
     },
     "output_type": "display_data"
    }
   ],
   "source": [
    "year_pic = pd.DataFrame({'sizes':year_pic_data1,'scores':year_pic_data2})\n",
    "year_pic.plot(subplots=True)\n"
   ]
  },
  {
   "cell_type": "markdown",
   "metadata": {},
   "source": [
    "Top100榜电影时间跨度大1939-2019共跨80年，其中在93年2011年进入top电影数量出现峰值5部和9部"
   ]
  },
  {
   "cell_type": "code",
   "execution_count": 54,
   "metadata": {},
   "outputs": [
    {
     "data": {
      "text/plain": [
       "<matplotlib.axes._subplots.AxesSubplot at 0x15b82d70>"
      ]
     },
     "execution_count": 54,
     "metadata": {},
     "output_type": "execute_result"
    },
    {
     "data": {
      "image/png": "[encoded data removed]",
      "text/plain": [
       "<Figure size 432x288 with 1 Axes>"
      ]
     },
     "metadata": {
      "needs_background": "light"
     },
     "output_type": "display_data"
    }
   ],
   "source": [
    "score_pic_data = maoyan_data.groupby('score').size()\n",
    "score_pic_data.plot(kind='bar')"
   ]
  },
  {
   "cell_type": "code",
   "execution_count": 67,
   "metadata": {},
   "outputs": [
    {
     "data": {
      "text/plain": [
       "<matplotlib.axes._subplots.AxesSubplot at 0x1e618650>"
      ]
     },
     "execution_count": 67,
     "metadata": {},
     "output_type": "execute_result"
    },
    {
     "data": {
      "image/png": "[encoded data removed]",
      "text/plain": [
       "<Figure size 432x288 with 1 Axes>"
      ]
     },
     "metadata": {
      "needs_background": "light"
     },
     "output_type": "display_data"
    }
   ],
   "source": [
    "long_time_pic_data = maoyan_data['long_time']\n",
    "long_time_pic_data.hist()"
   ]
  },
  {
   "cell_type": "code",
   "execution_count": 66,
   "metadata": {},
   "outputs": [
    {
     "data": {
      "text/plain": [
       "<matplotlib.axes._subplots.AxesSubplot at 0x15d38df0>"
      ]
     },
     "execution_count": 66,
     "metadata": {},
     "output_type": "execute_result"
    },
    {
     "data": {
      "image/png": "[encoded data removed]",
      "text/plain": [
       "<Figure size 432x288 with 1 Axes>"
      ]
     },
     "metadata": {
      "needs_background": "light"
     },
     "output_type": "display_data"
    }
   ],
   "source": [
    "long_time_pic_data.dropna().plot(kind='kde', xlim=(10,250))"
   ]
  },
  {
   "cell_type": "code",
   "execution_count": null,
   "metadata": {},
   "outputs": [],
   "source": []
  }
 ],
 "metadata": {
  "kernelspec": {
   "display_name": "Python 3",
   "language": "python",
   "name": "python3"
  },
  "language_info": {
   "codemirror_mode": {
    "name": "ipython",
    "version": 3
   },
   "file_extension": ".py",
   "mimetype": "text/x-python",
   "name": "python",
   "nbconvert_exporter": "python",
   "pygments_lexer": "ipython3",
   "version": "3.7.3"
  }
 },
 "nbformat": 4,
 "nbformat_minor": 2
}
